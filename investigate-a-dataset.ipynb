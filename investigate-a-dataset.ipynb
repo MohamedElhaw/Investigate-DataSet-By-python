{
 "cells": [
  {
   "cell_type": "markdown",
   "metadata": {},
   "source": [
    "\n",
    "# Project: Investigating factors of showing up appoinment of many patients\n",
    "\n",
    "## Table of Contents\n",
    "<ul>\n",
    "<li><a href=\"#intro\">Introduction</a></li>\n",
    "<li><a href=\"#wrangling\">Data Wrangling</a></li>\n",
    "<li><a href=\"#eda\">Exploratory Data Analysis</a></li>\n",
    "<li><a href=\"#conclusions\">Conclusions</a></li>\n",
    "</ul>"
   ]
  },
  {
   "cell_type": "markdown",
   "metadata": {},
   "source": [
    "<a id='intro'></a>\n",
    "## Introduction\n",
    "\n",
    "> This dataset collects information from 100k medical appointments in Brazil and is focused on the question of whether or not patients show up for their appointment. A number of characteristics about the patient are included in each row.\n",
    ">\n",
    ">The dataset contains factors per each patient that may help in the investigation.\n",
    "\n",
    "### Data Dictionary\n",
    ">\n",
    ">01- PatientId:\n",
    ">Identification of a patient\n",
    ">\n",
    ">02- AppointmentID:\n",
    ">Identification of each appointment\n",
    ">\n",
    ">03- Gender:\n",
    ">Male or Female . Female is the greater proportion, woman takes way more care of they health in comparison to man.\n",
    ">\n",
    ">04- ScheduledDay:\n",
    ">The day someone called or registered the appointment, this is before appointment of course.\n",
    ">\n",
    ">05- AppointmentDay;\n",
    ">The day of the actuall appointment, when they have to visit the doctor.\n",
    ">\n",
    ">06- Age:\n",
    ">How old is the patient.\n",
    ">\n",
    ">07- Neighbourhood:\n",
    ">Where the appointment takes place.\n",
    ">\n",
    ">08- Scholarship;\n",
    ">True of False . Observation, this is a broad topic, consider reading this article\n",
    "https://en.wikipedia.org/wiki/Bolsa_Fam%C3%ADlia\n",
    ">\n",
    ">09- Hipertension;\n",
    ">True or False\n",
    ">\n",
    ">10- Diabetes:\n",
    ">True or False\n",
    ">\n",
    ">11- Alcoholism:\n",
    ">True or False\n",
    ">\n",
    ">12- Handcap:\n",
    ">True or False\n",
    ">\n",
    ">13- SMS_received:\n",
    ">1 or more messages sent to the patient.\n",
    ">\n",
    ">14- No-show:\n",
    ">True or False. No’ if the patient showed up to their appointment, and ‘Yes’ if they did not show up.\n",
    "\n",
    "#### Questions to answer:\n",
    ">1. What factors are important for us to know in order to predict if a patient will show up for their scheduled appointment?"
   ]
  },
  {
   "cell_type": "code",
   "execution_count": 1,
   "metadata": {},
   "outputs": [],
   "source": [
    "#import libraries\n",
    "import pandas as pd\n",
    "import numpy as np\n",
    "import matplotlib.pyplot as plt\n",
    "%matplotlib inline\n",
    "import seaborn as sns\n",
    "sns.set_style('darkgrid')\n",
    "from datetime import datetime,timedelta"
   ]
  },
  {
   "cell_type": "markdown",
   "metadata": {},
   "source": [
    "<a id='wrangling'></a>\n",
    "## Data Wrangling\n",
    "\n",
    "> **Process**: In this section of the report, the data will load and check for cleanliness.\n",
    "\n",
    "> **Steps used:**\n",
    ">>1. Load the data and visualize the first rows.\n",
    ">>2. Check for missing values (NaN), correct datatypes and column names.\n",
    ">>3. Check for duplicated samples (rows).\n",
    ">>4. Check unique values per each column and compare it with the Data dictionary.\n",
    ">>5. Check the age column values between 0 and 100.\n",
    ">>6. Check if scheduled day is always earlier than appointment date.\n",
    ">>7. Check if the age between 0-2 years and the patient is classified as Alcoholism.\n",
    ">>8. Check if the patient_id has always unique gender.\n",
    "\n",
    ">**Results:** At end of the process.\n",
    "\n",
    "#### 1. Load the data and visualize the first rows"
   ]
  },
  {
   "cell_type": "code",
   "execution_count": 2,
   "metadata": {},
   "outputs": [
    {
     "data": {
      "text/html": [
       "<div>\n",
       "<style scoped>\n",
       "    .dataframe tbody tr th:only-of-type {\n",
       "        vertical-align: middle;\n",
       "    }\n",
       "\n",
       "    .dataframe tbody tr th {\n",
       "        vertical-align: top;\n",
       "    }\n",
       "\n",
       "    .dataframe thead th {\n",
       "        text-align: right;\n",
       "    }\n",
       "</style>\n",
       "<table border=\"1\" class=\"dataframe\">\n",
       "  <thead>\n",
       "    <tr style=\"text-align: right;\">\n",
       "      <th></th>\n",
       "      <th>PatientId</th>\n",
       "      <th>AppointmentID</th>\n",
       "      <th>Gender</th>\n",
       "      <th>ScheduledDay</th>\n",
       "      <th>AppointmentDay</th>\n",
       "      <th>Age</th>\n",
       "      <th>Neighbourhood</th>\n",
       "      <th>Scholarship</th>\n",
       "      <th>Hipertension</th>\n",
       "      <th>Diabetes</th>\n",
       "      <th>Alcoholism</th>\n",
       "      <th>Handcap</th>\n",
       "      <th>SMS_received</th>\n",
       "      <th>No-show</th>\n",
       "    </tr>\n",
       "  </thead>\n",
       "  <tbody>\n",
       "    <tr>\n",
       "      <th>0</th>\n",
       "      <td>2.987250e+13</td>\n",
       "      <td>5642903</td>\n",
       "      <td>F</td>\n",
       "      <td>2016-04-29T18:38:08Z</td>\n",
       "      <td>2016-04-29T00:00:00Z</td>\n",
       "      <td>62</td>\n",
       "      <td>JARDIM DA PENHA</td>\n",
       "      <td>0</td>\n",
       "      <td>1</td>\n",
       "      <td>0</td>\n",
       "      <td>0</td>\n",
       "      <td>0</td>\n",
       "      <td>0</td>\n",
       "      <td>No</td>\n",
       "    </tr>\n",
       "    <tr>\n",
       "      <th>1</th>\n",
       "      <td>5.589978e+14</td>\n",
       "      <td>5642503</td>\n",
       "      <td>M</td>\n",
       "      <td>2016-04-29T16:08:27Z</td>\n",
       "      <td>2016-04-29T00:00:00Z</td>\n",
       "      <td>56</td>\n",
       "      <td>JARDIM DA PENHA</td>\n",
       "      <td>0</td>\n",
       "      <td>0</td>\n",
       "      <td>0</td>\n",
       "      <td>0</td>\n",
       "      <td>0</td>\n",
       "      <td>0</td>\n",
       "      <td>No</td>\n",
       "    </tr>\n",
       "    <tr>\n",
       "      <th>2</th>\n",
       "      <td>4.262962e+12</td>\n",
       "      <td>5642549</td>\n",
       "      <td>F</td>\n",
       "      <td>2016-04-29T16:19:04Z</td>\n",
       "      <td>2016-04-29T00:00:00Z</td>\n",
       "      <td>62</td>\n",
       "      <td>MATA DA PRAIA</td>\n",
       "      <td>0</td>\n",
       "      <td>0</td>\n",
       "      <td>0</td>\n",
       "      <td>0</td>\n",
       "      <td>0</td>\n",
       "      <td>0</td>\n",
       "      <td>No</td>\n",
       "    </tr>\n",
       "    <tr>\n",
       "      <th>3</th>\n",
       "      <td>8.679512e+11</td>\n",
       "      <td>5642828</td>\n",
       "      <td>F</td>\n",
       "      <td>2016-04-29T17:29:31Z</td>\n",
       "      <td>2016-04-29T00:00:00Z</td>\n",
       "      <td>8</td>\n",
       "      <td>PONTAL DE CAMBURI</td>\n",
       "      <td>0</td>\n",
       "      <td>0</td>\n",
       "      <td>0</td>\n",
       "      <td>0</td>\n",
       "      <td>0</td>\n",
       "      <td>0</td>\n",
       "      <td>No</td>\n",
       "    </tr>\n",
       "    <tr>\n",
       "      <th>4</th>\n",
       "      <td>8.841186e+12</td>\n",
       "      <td>5642494</td>\n",
       "      <td>F</td>\n",
       "      <td>2016-04-29T16:07:23Z</td>\n",
       "      <td>2016-04-29T00:00:00Z</td>\n",
       "      <td>56</td>\n",
       "      <td>JARDIM DA PENHA</td>\n",
       "      <td>0</td>\n",
       "      <td>1</td>\n",
       "      <td>1</td>\n",
       "      <td>0</td>\n",
       "      <td>0</td>\n",
       "      <td>0</td>\n",
       "      <td>No</td>\n",
       "    </tr>\n",
       "  </tbody>\n",
       "</table>\n",
       "</div>"
      ],
      "text/plain": [
       "      PatientId  AppointmentID Gender          ScheduledDay  \\\n",
       "0  2.987250e+13        5642903      F  2016-04-29T18:38:08Z   \n",
       "1  5.589978e+14        5642503      M  2016-04-29T16:08:27Z   \n",
       "2  4.262962e+12        5642549      F  2016-04-29T16:19:04Z   \n",
       "3  8.679512e+11        5642828      F  2016-04-29T17:29:31Z   \n",
       "4  8.841186e+12        5642494      F  2016-04-29T16:07:23Z   \n",
       "\n",
       "         AppointmentDay  Age      Neighbourhood  Scholarship  Hipertension  \\\n",
       "0  2016-04-29T00:00:00Z   62    JARDIM DA PENHA            0             1   \n",
       "1  2016-04-29T00:00:00Z   56    JARDIM DA PENHA            0             0   \n",
       "2  2016-04-29T00:00:00Z   62      MATA DA PRAIA            0             0   \n",
       "3  2016-04-29T00:00:00Z    8  PONTAL DE CAMBURI            0             0   \n",
       "4  2016-04-29T00:00:00Z   56    JARDIM DA PENHA            0             1   \n",
       "\n",
       "   Diabetes  Alcoholism  Handcap  SMS_received No-show  \n",
       "0         0           0        0             0      No  \n",
       "1         0           0        0             0      No  \n",
       "2         0           0        0             0      No  \n",
       "3         0           0        0             0      No  \n",
       "4         1           0        0             0      No  "
      ]
     },
     "execution_count": 2,
     "metadata": {},
     "output_type": "execute_result"
    }
   ],
   "source": [
    "# Load your data and print out a few lines. Perform operations to inspect data\n",
    "#   types and look for instances of missing or possibly errant data.\n",
    "\n",
    "#load data\n",
    "df=pd.read_csv('noshowappointments-kagglev2-may-2016.csv')\n",
    "df.head()"
   ]
  },
  {
   "cell_type": "code",
   "execution_count": 3,
   "metadata": {},
   "outputs": [
    {
     "name": "stdout",
     "output_type": "stream",
     "text": [
      "The dataset has (110527) rows and (14) columns.\n"
     ]
    }
   ],
   "source": [
    "#get the datafram shape\n",
    "print('The dataset has ({}) rows and ({}) columns.'.format(df.shape[0],df.shape[1]))"
   ]
  },
  {
   "cell_type": "markdown",
   "metadata": {},
   "source": [
    "**Let us fix the columns name first to use properly the codes as per python recommendations**"
   ]
  },
  {
   "cell_type": "code",
   "execution_count": 4,
   "metadata": {},
   "outputs": [
    {
     "data": {
      "text/plain": [
       "Index(['patient_id', 'appointment_id', 'gender', 'scheduled_day',\n",
       "       'appointment_day', 'age', 'neighbourhood', 'scholarship',\n",
       "       'hipertension', 'diabetes', 'alcoholism', 'handcap', 'sms_received',\n",
       "       'no_show'],\n",
       "      dtype='object')"
      ]
     },
     "execution_count": 4,
     "metadata": {},
     "output_type": "execute_result"
    }
   ],
   "source": [
    "df.rename(columns={'PatientId':'Patient_Id','AppointmentID':'Appointment_ID','ScheduledDay':'Scheduled_Day','AppointmentDay':'Appointment_Day','No-show':'No_show'}, inplace=True)\n",
    "df.rename(columns= lambda x: x.lower(), inplace =True)\n",
    "df.columns"
   ]
  },
  {
   "cell_type": "markdown",
   "metadata": {},
   "source": [
    "#### 2. Check for missing values (NaN), correct datatypes and column names."
   ]
  },
  {
   "cell_type": "code",
   "execution_count": 5,
   "metadata": {},
   "outputs": [
    {
     "name": "stdout",
     "output_type": "stream",
     "text": [
      "<class 'pandas.core.frame.DataFrame'>\n",
      "RangeIndex: 110527 entries, 0 to 110526\n",
      "Data columns (total 14 columns):\n",
      " #   Column           Non-Null Count   Dtype  \n",
      "---  ------           --------------   -----  \n",
      " 0   patient_id       110527 non-null  float64\n",
      " 1   appointment_id   110527 non-null  int64  \n",
      " 2   gender           110527 non-null  object \n",
      " 3   scheduled_day    110527 non-null  object \n",
      " 4   appointment_day  110527 non-null  object \n",
      " 5   age              110527 non-null  int64  \n",
      " 6   neighbourhood    110527 non-null  object \n",
      " 7   scholarship      110527 non-null  int64  \n",
      " 8   hipertension     110527 non-null  int64  \n",
      " 9   diabetes         110527 non-null  int64  \n",
      " 10  alcoholism       110527 non-null  int64  \n",
      " 11  handcap          110527 non-null  int64  \n",
      " 12  sms_received     110527 non-null  int64  \n",
      " 13  no_show          110527 non-null  object \n",
      "dtypes: float64(1), int64(8), object(5)\n",
      "memory usage: 11.8+ MB\n"
     ]
    }
   ],
   "source": [
    "#2. Check null values, data types and column names\n",
    "df.info()"
   ]
  },
  {
   "cell_type": "markdown",
   "metadata": {},
   "source": [
    "#### 3. Check for duplicated samples (rows)"
   ]
  },
  {
   "cell_type": "code",
   "execution_count": 6,
   "metadata": {},
   "outputs": [
    {
     "data": {
      "text/plain": [
       "'No duplicates'"
      ]
     },
     "execution_count": 6,
     "metadata": {},
     "output_type": "execute_result"
    }
   ],
   "source": [
    "#check dupplicated rows\n",
    "'No duplicates' if df.duplicated().sum()==0 else \"There is duplicates, the no is {}\".format(df.duplicated().sum()) "
   ]
  },
  {
   "cell_type": "markdown",
   "metadata": {},
   "source": [
    "#### 4. Check unique values per each column and compare it with the Data dictionary"
   ]
  },
  {
   "cell_type": "code",
   "execution_count": 7,
   "metadata": {},
   "outputs": [
    {
     "data": {
      "text/plain": [
       "patient_id          62299\n",
       "appointment_id     110527\n",
       "gender                  2\n",
       "scheduled_day      103549\n",
       "appointment_day        27\n",
       "age                   104\n",
       "neighbourhood          81\n",
       "scholarship             2\n",
       "hipertension            2\n",
       "diabetes                2\n",
       "alcoholism              2\n",
       "handcap                 5\n",
       "sms_received            2\n",
       "no_show                 2\n",
       "dtype: int64"
      ]
     },
     "execution_count": 7,
     "metadata": {},
     "output_type": "execute_result"
    }
   ],
   "source": [
    "#check unique values per each column\n",
    "df.nunique()"
   ]
  },
  {
   "cell_type": "code",
   "execution_count": 8,
   "metadata": {},
   "outputs": [
    {
     "data": {
      "text/plain": [
       "0    108286\n",
       "1      2042\n",
       "2       183\n",
       "3        13\n",
       "4         3\n",
       "Name: handcap, dtype: int64"
      ]
     },
     "execution_count": 8,
     "metadata": {},
     "output_type": "execute_result"
    }
   ],
   "source": [
    "#Check how many Handcap per each value\n",
    "df.handcap.value_counts()"
   ]
  },
  {
   "cell_type": "markdown",
   "metadata": {},
   "source": [
    "#### 5. Check the age column values between 0 and 100."
   ]
  },
  {
   "cell_type": "code",
   "execution_count": 9,
   "metadata": {},
   "outputs": [
    {
     "name": "stdout",
     "output_type": "stream",
     "text": [
      "The no of age in dataset over 100 is (7), while under 0 is (1).\n"
     ]
    }
   ],
   "source": [
    "#check age in range of >0 and <100\n",
    "age_over_100=df.query('age > 100').shape[0]\n",
    "age_neg_value=df.query('age < 0').shape[0]\n",
    "print ('The no of age in dataset over 100 is ({}), while under 0 is ({}).'.format(age_over_100, age_neg_value))"
   ]
  },
  {
   "cell_type": "markdown",
   "metadata": {},
   "source": [
    "Assuming that 0 is the age between 0-1 year, so ther row under 0 will be dropped only"
   ]
  },
  {
   "cell_type": "markdown",
   "metadata": {},
   "source": [
    "#### 6. Check if scheduled day is always earlier than appointment date."
   ]
  },
  {
   "cell_type": "code",
   "execution_count": 10,
   "metadata": {},
   "outputs": [
    {
     "name": "stdout",
     "output_type": "stream",
     "text": [
      "The dataframe has (38568) negative values in duration with (34.89)% of dataset\n"
     ]
    }
   ],
   "source": [
    "# check if the scheduled date is earlier than appointment date in all dataset\n",
    "sch_day_dt=pd.to_datetime(df['scheduled_day'], format=\"%Y-%m-%dT%H:%M:%SZ\")\n",
    "app_day_dt=pd.to_datetime(df['appointment_day'], format=\"%Y-%m-%dT%H:%M:%SZ\")\n",
    "df['duration']=(app_day_dt-sch_day_dt).dt.total_seconds().astype(int)\n",
    "neg_duration_count=df.query('duration <0').shape[0]\n",
    "neg_duration_percentage=round(df.query('duration <0').shape[0]/df.shape[0]*100, 2)\n",
    "print('The dataframe has ({}) negative values in duration with ({})% of dataset'.format(neg_duration_count,neg_duration_percentage))"
   ]
  },
  {
   "cell_type": "markdown",
   "metadata": {},
   "source": [
    "let's convert scheduled day and appointment day from string to datetime"
   ]
  },
  {
   "cell_type": "code",
   "execution_count": 11,
   "metadata": {},
   "outputs": [
    {
     "name": "stdout",
     "output_type": "stream",
     "text": [
      "<class 'pandas.core.frame.DataFrame'>\n",
      "RangeIndex: 110527 entries, 0 to 110526\n",
      "Data columns (total 15 columns):\n",
      " #   Column           Non-Null Count   Dtype         \n",
      "---  ------           --------------   -----         \n",
      " 0   patient_id       110527 non-null  float64       \n",
      " 1   appointment_id   110527 non-null  int64         \n",
      " 2   gender           110527 non-null  object        \n",
      " 3   scheduled_day    110527 non-null  datetime64[ns]\n",
      " 4   appointment_day  110527 non-null  datetime64[ns]\n",
      " 5   age              110527 non-null  int64         \n",
      " 6   neighbourhood    110527 non-null  object        \n",
      " 7   scholarship      110527 non-null  int64         \n",
      " 8   hipertension     110527 non-null  int64         \n",
      " 9   diabetes         110527 non-null  int64         \n",
      " 10  alcoholism       110527 non-null  int64         \n",
      " 11  handcap          110527 non-null  int64         \n",
      " 12  sms_received     110527 non-null  int64         \n",
      " 13  no_show          110527 non-null  object        \n",
      " 14  duration         110527 non-null  int32         \n",
      "dtypes: datetime64[ns](2), float64(1), int32(1), int64(8), object(3)\n",
      "memory usage: 12.2+ MB\n"
     ]
    }
   ],
   "source": [
    "#convert scheduled day and appointment day from string to datetime\n",
    "df['scheduled_day']=sch_day_dt\n",
    "df['appointment_day']=app_day_dt\n",
    "df.info()"
   ]
  },
  {
   "cell_type": "markdown",
   "metadata": {},
   "source": [
    "As the appointment date was registered at the first hour of the day (00:00:00), so it may be the appointment done for the same day, so let's check this:"
   ]
  },
  {
   "cell_type": "code",
   "execution_count": 12,
   "metadata": {},
   "outputs": [
    {
     "data": {
      "text/plain": [
       "True    38563\n",
       "dtype: int64"
      ]
     },
     "execution_count": 12,
     "metadata": {},
     "output_type": "execute_result"
    }
   ],
   "source": [
    "#make series of check is day at scheduled_day equal day at appointment day\n",
    "# 1st check the same day\n",
    "series_day_check=(df.query('duration <0')['scheduled_day'].dt.day==df.query('duration <0')['appointment_day'].dt.day)\n",
    "#2nd check at same month\n",
    "df_equal_day=df.iloc[series_day_check[series_day_check==True].index]\n",
    "(df_equal_day['scheduled_day'].dt.month==df_equal_day['appointment_day'].dt.month).value_counts()"
   ]
  },
  {
   "cell_type": "markdown",
   "metadata": {},
   "source": [
    "Now it's appear that only 5 rows was regesitered was appointment day before schedule day, so it will be dropped at cleanning"
   ]
  },
  {
   "cell_type": "code",
   "execution_count": 13,
   "metadata": {},
   "outputs": [
    {
     "data": {
      "text/html": [
       "<div>\n",
       "<style scoped>\n",
       "    .dataframe tbody tr th:only-of-type {\n",
       "        vertical-align: middle;\n",
       "    }\n",
       "\n",
       "    .dataframe tbody tr th {\n",
       "        vertical-align: top;\n",
       "    }\n",
       "\n",
       "    .dataframe thead th {\n",
       "        text-align: right;\n",
       "    }\n",
       "</style>\n",
       "<table border=\"1\" class=\"dataframe\">\n",
       "  <thead>\n",
       "    <tr style=\"text-align: right;\">\n",
       "      <th></th>\n",
       "      <th>patient_id</th>\n",
       "      <th>appointment_id</th>\n",
       "      <th>gender</th>\n",
       "      <th>scheduled_day</th>\n",
       "      <th>appointment_day</th>\n",
       "      <th>age</th>\n",
       "      <th>neighbourhood</th>\n",
       "      <th>scholarship</th>\n",
       "      <th>hipertension</th>\n",
       "      <th>diabetes</th>\n",
       "      <th>alcoholism</th>\n",
       "      <th>handcap</th>\n",
       "      <th>sms_received</th>\n",
       "      <th>no_show</th>\n",
       "      <th>duration</th>\n",
       "    </tr>\n",
       "  </thead>\n",
       "  <tbody>\n",
       "    <tr>\n",
       "      <th>27033</th>\n",
       "      <td>7.839273e+12</td>\n",
       "      <td>5679978</td>\n",
       "      <td>M</td>\n",
       "      <td>2016-05-10 10:51:53</td>\n",
       "      <td>2016-05-09</td>\n",
       "      <td>38</td>\n",
       "      <td>RESISTÊNCIA</td>\n",
       "      <td>0</td>\n",
       "      <td>0</td>\n",
       "      <td>0</td>\n",
       "      <td>0</td>\n",
       "      <td>1</td>\n",
       "      <td>0</td>\n",
       "      <td>Yes</td>\n",
       "      <td>-125513</td>\n",
       "    </tr>\n",
       "    <tr>\n",
       "      <th>55226</th>\n",
       "      <td>7.896294e+12</td>\n",
       "      <td>5715660</td>\n",
       "      <td>F</td>\n",
       "      <td>2016-05-18 14:50:41</td>\n",
       "      <td>2016-05-17</td>\n",
       "      <td>19</td>\n",
       "      <td>SANTO ANTÔNIO</td>\n",
       "      <td>0</td>\n",
       "      <td>0</td>\n",
       "      <td>0</td>\n",
       "      <td>0</td>\n",
       "      <td>1</td>\n",
       "      <td>0</td>\n",
       "      <td>Yes</td>\n",
       "      <td>-139841</td>\n",
       "    </tr>\n",
       "    <tr>\n",
       "      <th>64175</th>\n",
       "      <td>2.425226e+13</td>\n",
       "      <td>5664962</td>\n",
       "      <td>F</td>\n",
       "      <td>2016-05-05 13:43:58</td>\n",
       "      <td>2016-05-04</td>\n",
       "      <td>22</td>\n",
       "      <td>CONSOLAÇÃO</td>\n",
       "      <td>0</td>\n",
       "      <td>0</td>\n",
       "      <td>0</td>\n",
       "      <td>0</td>\n",
       "      <td>0</td>\n",
       "      <td>0</td>\n",
       "      <td>Yes</td>\n",
       "      <td>-135838</td>\n",
       "    </tr>\n",
       "    <tr>\n",
       "      <th>71533</th>\n",
       "      <td>9.982316e+14</td>\n",
       "      <td>5686628</td>\n",
       "      <td>F</td>\n",
       "      <td>2016-05-11 13:49:20</td>\n",
       "      <td>2016-05-05</td>\n",
       "      <td>81</td>\n",
       "      <td>SANTO ANTÔNIO</td>\n",
       "      <td>0</td>\n",
       "      <td>0</td>\n",
       "      <td>0</td>\n",
       "      <td>0</td>\n",
       "      <td>0</td>\n",
       "      <td>0</td>\n",
       "      <td>Yes</td>\n",
       "      <td>-568160</td>\n",
       "    </tr>\n",
       "    <tr>\n",
       "      <th>72362</th>\n",
       "      <td>3.787482e+12</td>\n",
       "      <td>5655637</td>\n",
       "      <td>M</td>\n",
       "      <td>2016-05-04 06:50:57</td>\n",
       "      <td>2016-05-03</td>\n",
       "      <td>7</td>\n",
       "      <td>TABUAZEIRO</td>\n",
       "      <td>0</td>\n",
       "      <td>0</td>\n",
       "      <td>0</td>\n",
       "      <td>0</td>\n",
       "      <td>0</td>\n",
       "      <td>0</td>\n",
       "      <td>Yes</td>\n",
       "      <td>-111057</td>\n",
       "    </tr>\n",
       "  </tbody>\n",
       "</table>\n",
       "</div>"
      ],
      "text/plain": [
       "         patient_id  appointment_id gender       scheduled_day  \\\n",
       "27033  7.839273e+12         5679978      M 2016-05-10 10:51:53   \n",
       "55226  7.896294e+12         5715660      F 2016-05-18 14:50:41   \n",
       "64175  2.425226e+13         5664962      F 2016-05-05 13:43:58   \n",
       "71533  9.982316e+14         5686628      F 2016-05-11 13:49:20   \n",
       "72362  3.787482e+12         5655637      M 2016-05-04 06:50:57   \n",
       "\n",
       "      appointment_day  age  neighbourhood  scholarship  hipertension  \\\n",
       "27033      2016-05-09   38    RESISTÊNCIA            0             0   \n",
       "55226      2016-05-17   19  SANTO ANTÔNIO            0             0   \n",
       "64175      2016-05-04   22     CONSOLAÇÃO            0             0   \n",
       "71533      2016-05-05   81  SANTO ANTÔNIO            0             0   \n",
       "72362      2016-05-03    7     TABUAZEIRO            0             0   \n",
       "\n",
       "       diabetes  alcoholism  handcap  sms_received no_show  duration  \n",
       "27033         0           0        1             0     Yes   -125513  \n",
       "55226         0           0        1             0     Yes   -139841  \n",
       "64175         0           0        0             0     Yes   -135838  \n",
       "71533         0           0        0             0     Yes   -568160  \n",
       "72362         0           0        0             0     Yes   -111057  "
      ]
     },
     "execution_count": 13,
     "metadata": {},
     "output_type": "execute_result"
    }
   ],
   "source": [
    "series_day_check[series_day_check==False].index\n",
    "df_negative_duration=df.iloc[series_day_check[series_day_check==False].index]\n",
    "df_negative_duration"
   ]
  },
  {
   "cell_type": "markdown",
   "metadata": {},
   "source": [
    "#### 7. Check if the age between 0-2 years and the patient is classified as Alcoholism."
   ]
  },
  {
   "cell_type": "code",
   "execution_count": 14,
   "metadata": {},
   "outputs": [
    {
     "data": {
      "text/plain": [
       "0"
      ]
     },
     "execution_count": 14,
     "metadata": {},
     "output_type": "execute_result"
    }
   ],
   "source": [
    "df.query('age >=0 and age<=2 and alcoholism!=0').shape[0]"
   ]
  },
  {
   "cell_type": "markdown",
   "metadata": {},
   "source": [
    "#### 8. Check if the patient_id has always unique gender."
   ]
  },
  {
   "cell_type": "code",
   "execution_count": 15,
   "metadata": {},
   "outputs": [
    {
     "data": {
      "text/plain": [
       "True"
      ]
     },
     "execution_count": 15,
     "metadata": {},
     "output_type": "execute_result"
    }
   ],
   "source": [
    "patient_gender=df.groupby('patient_id')['gender'].nunique()\n",
    "patient_gender.sum()==patient_gender.shape[0]"
   ]
  },
  {
   "cell_type": "markdown",
   "metadata": {},
   "source": [
    "#### 9. Make new column 'show' instead of 'no_show' with (0,1) indicates (Yes, No) respectively to have statistics on it, then drop 'no_show' column"
   ]
  },
  {
   "cell_type": "code",
   "execution_count": 16,
   "metadata": {},
   "outputs": [
    {
     "name": "stdout",
     "output_type": "stream",
     "text": [
      "<class 'pandas.core.frame.DataFrame'>\n",
      "RangeIndex: 110527 entries, 0 to 110526\n",
      "Data columns (total 15 columns):\n",
      " #   Column           Non-Null Count   Dtype         \n",
      "---  ------           --------------   -----         \n",
      " 0   patient_id       110527 non-null  float64       \n",
      " 1   appointment_id   110527 non-null  int64         \n",
      " 2   gender           110527 non-null  object        \n",
      " 3   scheduled_day    110527 non-null  datetime64[ns]\n",
      " 4   appointment_day  110527 non-null  datetime64[ns]\n",
      " 5   age              110527 non-null  int64         \n",
      " 6   neighbourhood    110527 non-null  object        \n",
      " 7   scholarship      110527 non-null  int64         \n",
      " 8   hipertension     110527 non-null  int64         \n",
      " 9   diabetes         110527 non-null  int64         \n",
      " 10  alcoholism       110527 non-null  int64         \n",
      " 11  handcap          110527 non-null  int64         \n",
      " 12  sms_received     110527 non-null  int64         \n",
      " 13  duration         110527 non-null  int32         \n",
      " 14  show             110527 non-null  int64         \n",
      "dtypes: datetime64[ns](2), float64(1), int32(1), int64(9), object(2)\n",
      "memory usage: 12.2+ MB\n"
     ]
    }
   ],
   "source": [
    "# make 'show' column and set 1 for all values\n",
    "df['show']=1\n",
    "# set 0 to all rows of 'no_show' with 'Yes' value\n",
    "df.loc[df['no_show']== 'Yes', 'show'] = 0\n",
    "# drop no_show column\n",
    "df.drop('no_show', axis=1, inplace=True)\n",
    "df.info()"
   ]
  },
  {
   "cell_type": "markdown",
   "metadata": {},
   "source": [
    "**Result from Data Wrangling:**\n",
    ">**Good**\n",
    ">1. No missing values.\n",
    ">2. No duplicates.\n",
    ">3. No baby classified as alcoholic.\n",
    ">4. patient_id has unique gender in all dataset.\n",
    ">**Done**\n",
    ">1. The columns names are not according python recommendations (To be lower and seperated by underscore _).\n",
    ">2. The duration between scheduled day and appointment day to be added as new column to analyze if the difference has a factor.\n",
    ">3. Scheduled day and appointment day are string which can't be analyzed (To convert it to datetime object).\n",
    ">4. Make new column 'show' instead of 'no_show' with (0,1) indicates (Yes, No) respectively to have statistics on it, then drop 'no_show' column.\n",
    ">**To be cleaned**\n",
    ">1. There is many data in 'handcap' column while it should be 1 , 0 that indicates Yes or No (To be clean that >1 set to 1 because thery are few).\n",
    ">2. As there is negative duration between the appointment day and the scheduled day(38568 rows), so for the data that at same day (38563 rows), duration column set to 0, and the other (5 rows) that are not at the same day to be dropped.\n",
    ">3. Age has negative value in one sample [To be dropped].\n",
    ">4. Drop no needed columns for this analysis (patient_id, appointment_id)."
   ]
  },
  {
   "cell_type": "markdown",
   "metadata": {},
   "source": [
    "--------------------------------------------------------------------------------------------------------------------------\n",
    "### Data Cleaning\n",
    "#### Steps:\n",
    "#### 1. Set 'handcap' column value to 1 if value more than 1"
   ]
  },
  {
   "cell_type": "code",
   "execution_count": 17,
   "metadata": {},
   "outputs": [
    {
     "data": {
      "text/plain": [
       "0    108286\n",
       "1      2241\n",
       "Name: handcap, dtype: int64"
      ]
     },
     "execution_count": 17,
     "metadata": {},
     "output_type": "execute_result"
    }
   ],
   "source": [
    "# Set 'handcap' column value to 1 if value more than 1\n",
    "df.loc[df['handcap'] > 1, 'handcap'] = 1\n",
    "df['handcap'].value_counts()"
   ]
  },
  {
   "cell_type": "markdown",
   "metadata": {},
   "source": [
    "#### 2. For negative duration, drop 5 rows and set duration to 0 for the others"
   ]
  },
  {
   "cell_type": "code",
   "execution_count": 18,
   "metadata": {},
   "outputs": [],
   "source": [
    "#Drop 5 rows of negative duration\n",
    "df.drop(df_negative_duration.index, axis=0, inplace=True)"
   ]
  },
  {
   "cell_type": "code",
   "execution_count": 19,
   "metadata": {},
   "outputs": [
    {
     "data": {
      "text/plain": [
       "(110522, 15)"
      ]
     },
     "execution_count": 19,
     "metadata": {},
     "output_type": "execute_result"
    }
   ],
   "source": [
    "#Set duration to 0 for the other 38563 rows\n",
    "df.loc[df['duration'] < 0, 'duration'] = 0\n",
    "df.shape"
   ]
  },
  {
   "cell_type": "markdown",
   "metadata": {},
   "source": [
    "#### 3. Drop negative value of age (1 row)"
   ]
  },
  {
   "cell_type": "code",
   "execution_count": 20,
   "metadata": {},
   "outputs": [
    {
     "data": {
      "text/plain": [
       "(110521, 15)"
      ]
     },
     "execution_count": 20,
     "metadata": {},
     "output_type": "execute_result"
    }
   ],
   "source": [
    "df.drop(df.query('age<0').index, axis=0, inplace=True)\n",
    "df.shape"
   ]
  },
  {
   "cell_type": "markdown",
   "metadata": {},
   "source": [
    "#### 4. Drop no needed columns for this analysis (patient_id, appointment_id)"
   ]
  },
  {
   "cell_type": "code",
   "execution_count": 21,
   "metadata": {},
   "outputs": [
    {
     "name": "stdout",
     "output_type": "stream",
     "text": [
      "<class 'pandas.core.frame.DataFrame'>\n",
      "Int64Index: 110521 entries, 0 to 110526\n",
      "Data columns (total 13 columns):\n",
      " #   Column           Non-Null Count   Dtype         \n",
      "---  ------           --------------   -----         \n",
      " 0   gender           110521 non-null  object        \n",
      " 1   scheduled_day    110521 non-null  datetime64[ns]\n",
      " 2   appointment_day  110521 non-null  datetime64[ns]\n",
      " 3   age              110521 non-null  int64         \n",
      " 4   neighbourhood    110521 non-null  object        \n",
      " 5   scholarship      110521 non-null  int64         \n",
      " 6   hipertension     110521 non-null  int64         \n",
      " 7   diabetes         110521 non-null  int64         \n",
      " 8   alcoholism       110521 non-null  int64         \n",
      " 9   handcap          110521 non-null  int64         \n",
      " 10  sms_received     110521 non-null  int64         \n",
      " 11  duration         110521 non-null  int32         \n",
      " 12  show             110521 non-null  int64         \n",
      "dtypes: datetime64[ns](2), int32(1), int64(8), object(2)\n",
      "memory usage: 11.4+ MB\n"
     ]
    }
   ],
   "source": [
    "# drop patient_id\n",
    "df.drop('patient_id', axis=1, inplace=True)\n",
    "# drop appointment_id\n",
    "df.drop('appointment_id', axis=1, inplace=True)\n",
    "df.info()"
   ]
  },
  {
   "cell_type": "markdown",
   "metadata": {},
   "source": [
    "<a id='eda'></a>\n",
    "## Exploratory Data Analysis\n",
    "\n",
    "\n",
    "### Research Question 1 (What factors are related to patient commitment to their schedule?)"
   ]
  },
  {
   "cell_type": "code",
   "execution_count": 22,
   "metadata": {},
   "outputs": [
    {
     "data": {
      "text/html": [
       "<div>\n",
       "<style scoped>\n",
       "    .dataframe tbody tr th:only-of-type {\n",
       "        vertical-align: middle;\n",
       "    }\n",
       "\n",
       "    .dataframe tbody tr th {\n",
       "        vertical-align: top;\n",
       "    }\n",
       "\n",
       "    .dataframe thead th {\n",
       "        text-align: right;\n",
       "    }\n",
       "</style>\n",
       "<table border=\"1\" class=\"dataframe\">\n",
       "  <thead>\n",
       "    <tr style=\"text-align: right;\">\n",
       "      <th></th>\n",
       "      <th>age</th>\n",
       "      <th>scholarship</th>\n",
       "      <th>hipertension</th>\n",
       "      <th>diabetes</th>\n",
       "      <th>alcoholism</th>\n",
       "      <th>handcap</th>\n",
       "      <th>sms_received</th>\n",
       "      <th>duration</th>\n",
       "      <th>show</th>\n",
       "    </tr>\n",
       "  </thead>\n",
       "  <tbody>\n",
       "    <tr>\n",
       "      <th>count</th>\n",
       "      <td>110521.000000</td>\n",
       "      <td>110521.000000</td>\n",
       "      <td>110521.000000</td>\n",
       "      <td>110521.000000</td>\n",
       "      <td>110521.000000</td>\n",
       "      <td>110521.000000</td>\n",
       "      <td>110521.000000</td>\n",
       "      <td>1.105210e+05</td>\n",
       "      <td>110521.000000</td>\n",
       "    </tr>\n",
       "    <tr>\n",
       "      <th>mean</th>\n",
       "      <td>37.089386</td>\n",
       "      <td>0.098271</td>\n",
       "      <td>0.197257</td>\n",
       "      <td>0.071869</td>\n",
       "      <td>0.030401</td>\n",
       "      <td>0.020259</td>\n",
       "      <td>0.321043</td>\n",
       "      <td>8.528006e+05</td>\n",
       "      <td>0.798102</td>\n",
       "    </tr>\n",
       "    <tr>\n",
       "      <th>std</th>\n",
       "      <td>23.109885</td>\n",
       "      <td>0.297682</td>\n",
       "      <td>0.397929</td>\n",
       "      <td>0.258272</td>\n",
       "      <td>0.171690</td>\n",
       "      <td>0.140884</td>\n",
       "      <td>0.466879</td>\n",
       "      <td>1.308232e+06</td>\n",
       "      <td>0.401419</td>\n",
       "    </tr>\n",
       "    <tr>\n",
       "      <th>min</th>\n",
       "      <td>0.000000</td>\n",
       "      <td>0.000000</td>\n",
       "      <td>0.000000</td>\n",
       "      <td>0.000000</td>\n",
       "      <td>0.000000</td>\n",
       "      <td>0.000000</td>\n",
       "      <td>0.000000</td>\n",
       "      <td>0.000000e+00</td>\n",
       "      <td>0.000000</td>\n",
       "    </tr>\n",
       "    <tr>\n",
       "      <th>25%</th>\n",
       "      <td>18.000000</td>\n",
       "      <td>0.000000</td>\n",
       "      <td>0.000000</td>\n",
       "      <td>0.000000</td>\n",
       "      <td>0.000000</td>\n",
       "      <td>0.000000</td>\n",
       "      <td>0.000000</td>\n",
       "      <td>0.000000e+00</td>\n",
       "      <td>1.000000</td>\n",
       "    </tr>\n",
       "    <tr>\n",
       "      <th>50%</th>\n",
       "      <td>37.000000</td>\n",
       "      <td>0.000000</td>\n",
       "      <td>0.000000</td>\n",
       "      <td>0.000000</td>\n",
       "      <td>0.000000</td>\n",
       "      <td>0.000000</td>\n",
       "      <td>0.000000</td>\n",
       "      <td>3.002410e+05</td>\n",
       "      <td>1.000000</td>\n",
       "    </tr>\n",
       "    <tr>\n",
       "      <th>75%</th>\n",
       "      <td>55.000000</td>\n",
       "      <td>0.000000</td>\n",
       "      <td>0.000000</td>\n",
       "      <td>0.000000</td>\n",
       "      <td>0.000000</td>\n",
       "      <td>0.000000</td>\n",
       "      <td>1.000000</td>\n",
       "      <td>1.237304e+06</td>\n",
       "      <td>1.000000</td>\n",
       "    </tr>\n",
       "    <tr>\n",
       "      <th>max</th>\n",
       "      <td>115.000000</td>\n",
       "      <td>1.000000</td>\n",
       "      <td>1.000000</td>\n",
       "      <td>1.000000</td>\n",
       "      <td>1.000000</td>\n",
       "      <td>1.000000</td>\n",
       "      <td>1.000000</td>\n",
       "      <td>1.542714e+07</td>\n",
       "      <td>1.000000</td>\n",
       "    </tr>\n",
       "  </tbody>\n",
       "</table>\n",
       "</div>"
      ],
      "text/plain": [
       "                 age    scholarship   hipertension       diabetes  \\\n",
       "count  110521.000000  110521.000000  110521.000000  110521.000000   \n",
       "mean       37.089386       0.098271       0.197257       0.071869   \n",
       "std        23.109885       0.297682       0.397929       0.258272   \n",
       "min         0.000000       0.000000       0.000000       0.000000   \n",
       "25%        18.000000       0.000000       0.000000       0.000000   \n",
       "50%        37.000000       0.000000       0.000000       0.000000   \n",
       "75%        55.000000       0.000000       0.000000       0.000000   \n",
       "max       115.000000       1.000000       1.000000       1.000000   \n",
       "\n",
       "          alcoholism        handcap   sms_received      duration  \\\n",
       "count  110521.000000  110521.000000  110521.000000  1.105210e+05   \n",
       "mean        0.030401       0.020259       0.321043  8.528006e+05   \n",
       "std         0.171690       0.140884       0.466879  1.308232e+06   \n",
       "min         0.000000       0.000000       0.000000  0.000000e+00   \n",
       "25%         0.000000       0.000000       0.000000  0.000000e+00   \n",
       "50%         0.000000       0.000000       0.000000  3.002410e+05   \n",
       "75%         0.000000       0.000000       1.000000  1.237304e+06   \n",
       "max         1.000000       1.000000       1.000000  1.542714e+07   \n",
       "\n",
       "                show  \n",
       "count  110521.000000  \n",
       "mean        0.798102  \n",
       "std         0.401419  \n",
       "min         0.000000  \n",
       "25%         1.000000  \n",
       "50%         1.000000  \n",
       "75%         1.000000  \n",
       "max         1.000000  "
      ]
     },
     "execution_count": 22,
     "metadata": {},
     "output_type": "execute_result"
    }
   ],
   "source": [
    "#Check the data statistics\n",
    "df.describe()"
   ]
  },
  {
   "cell_type": "markdown",
   "metadata": {},
   "source": [
    ">**Sample Analysis**\n",
    ">1. **age:** mean age of patients is 37 years old.\n",
    ">2. **scholarship:** about 10% of patients are enrolled.\n",
    ">3. **hipertension:** about 20% of patinets.\n",
    ">4. **diabetes:** about 7% of patinets.\n",
    ">5. **alcoholism:** about 3% of patinets.\n",
    ">6. **handcap:** about 2% of patinets.\n",
    ">7. **sms_received:** about 32% of patinets.\n",
    ">8. **duration:** about 852801 sec (~ 9 days).\n",
    ">9. **show:** about 80% of patinets showed up their appointment."
   ]
  },
  {
   "cell_type": "code",
   "execution_count": 23,
   "metadata": {},
   "outputs": [
    {
     "data": {
      "image/png": "[encoded data removed]",
      "text/plain": [
       "<Figure size 1440x1440 with 12 Axes>"
      ]
     },
     "metadata": {},
     "output_type": "display_data"
    }
   ],
   "source": [
    "# plot dataframe histogram\n",
    "df.hist(figsize=(20,20));"
   ]
  },
  {
   "cell_type": "markdown",
   "metadata": {},
   "source": [
    "The histogram plots indicate:\n",
    ">1. Age: mode is at zero (1-12 months) years old.\n",
    ">2. Most of patients are enrolled in scholarship, without hipertension, diabetes, Alcholism and Handcap.\n",
    ">3. Most of petients don't receive SMS message.\n",
    ">4. Duration is very skewed to right with mode in 0 duration.\n",
    ">5. Most of patients show up their appointment."
   ]
  },
  {
   "cell_type": "markdown",
   "metadata": {},
   "source": [
    "Mask for easy filtering the data for analysis"
   ]
  },
  {
   "cell_type": "code",
   "execution_count": 24,
   "metadata": {},
   "outputs": [],
   "source": [
    "#make mask with 'show' column values for easy filter\n",
    "show=df.show==True\n",
    "no_show=df.show==False"
   ]
  },
  {
   "cell_type": "markdown",
   "metadata": {},
   "source": [
    "#### Define functions for plot to re-use\n",
    "1. histogram plot"
   ]
  },
  {
   "cell_type": "code",
   "execution_count": 25,
   "metadata": {},
   "outputs": [],
   "source": [
    "# This function will return plot histogram with specified column\n",
    "#inputs:\n",
    "    #col_name: Dataframe column name (dataframe)\n",
    "    #show: the mask filter with show column with True value (pandas seires)\n",
    "    #no_shiw:the mask filter with show column with false value (pandas seires)\n",
    "#Outputs:\n",
    "    #histogram plot\n",
    "def plot_hist(col_name, show, no_show):\n",
    "    col_name[show].hist(alpha=0.5,figsize=(6,6), label='show', color='g')\n",
    "    col_name[no_show].hist(alpha=0.5,figsize=(6,6), label='no show', color='r')\n",
    "    plt.legend();"
   ]
  },
  {
   "cell_type": "markdown",
   "metadata": {},
   "source": [
    "2. bar plot"
   ]
  },
  {
   "cell_type": "code",
   "execution_count": 26,
   "metadata": {},
   "outputs": [],
   "source": [
    "#This function used to return two bars plot for comaprsion\n",
    "#inputs:\n",
    "    #show: represent the bar for show value=1 (pandas series)\n",
    "    #no-show:represent the bar for show value=0 (pandas series)\n",
    "    #length: x-axis length (int)\n",
    "    #ylable: y-axis label (string)\n",
    "    #xlabel: x-axis label (string)\n",
    "    #title: plot title (string)\n",
    "    #xtick_labels: array of each bar lable (array)\n",
    "#outputs:\n",
    "    #two bars at one plot\n",
    "def plot_bar(show, no_show, length, ylabel, xlabel, title, xtick_labels):\n",
    "    ind = np.arange(len(length))  # the x locations for the groups\n",
    "    width = 0.35       # the width of the bars\n",
    "    # plot bars\n",
    "    green_bars = plt.bar(ind, show, width, color='g', alpha=.7, label='show')\n",
    "    red_bars = plt.bar(ind + width, no_show, width, color='r', alpha=.7, label='no show')\n",
    "\n",
    "    # title and labels\n",
    "    plt.ylabel(ylabel)\n",
    "    plt.xlabel(xlabel)\n",
    "    plt.title(title)\n",
    "    locations = ind + width / 2  # xtick locations\n",
    "    labels = xtick_labels  # xtick labels\n",
    "    plt.xticks(locations, labels)\n",
    "\n",
    "    # legend\n",
    "    plt.legend();"
   ]
  },
  {
   "cell_type": "markdown",
   "metadata": {},
   "source": [
    "#### To analysis the showing up factors, so we check individuallt the following factors:\n",
    ">1. The correlation with SMS receiving message.\n",
    ">2. The correlation with duration (Difference between the appointment day and the scheduled day).\n",
    ">3. The correlation with the 'age'.\n",
    ">4. The correlation with the gender.\n",
    ">5. The correlation with the scholarship.\n",
    ">6. The correlation with the Hipertension.\n",
    ">7. The correlation with the Diabetes.\n",
    ">8. The correlation with Alcoholism.\n",
    ">9. The correlation with Handcap."
   ]
  },
  {
   "cell_type": "markdown",
   "metadata": {},
   "source": [
    "#### 1. The correlation with SMS receiving message."
   ]
  },
  {
   "cell_type": "code",
   "execution_count": 27,
   "metadata": {},
   "outputs": [
    {
     "data": {
      "image/png": "[encoded data removed]",
      "text/plain": [
       "<Figure size 432x432 with 1 Axes>"
      ]
     },
     "metadata": {},
     "output_type": "display_data"
    }
   ],
   "source": [
    "plot_hist(df.sms_received, show, no_show)"
   ]
  },
  {
   "cell_type": "markdown",
   "metadata": {},
   "source": [
    "The histogram shows the patients are showing up their appointment however they don't receive a message and in fact it's also with higher percentage than received. This indicates that there is other parameter lead to this.\n",
    "\n",
    "Before going to get this reason, let's see this propotion in calculations below and graph: "
   ]
  },
  {
   "cell_type": "code",
   "execution_count": 28,
   "metadata": {},
   "outputs": [
    {
     "name": "stdout",
     "output_type": "stream",
     "text": [
      "The % of patients that not receiving sms and showing up is (83.3 %), while no show is (16.7 %).\n",
      "The % of patients that receiving sms and showing up is (72.43 %), while no show is (27.57 %).\n"
     ]
    }
   ],
   "source": [
    "#get the proportion of show and SMS_received\n",
    "show_sms_pro=df.groupby('show')['sms_received'].value_counts()[1]*100/df['sms_received'].value_counts()\n",
    "no_show_sms_pro=df.groupby('show')['sms_received'].value_counts()[0]*100/df['sms_received'].value_counts()\n",
    "print('The % of patients that not receiving sms and showing up is ({} %), while no show is ({} %).'.format(round(show_sms_pro[0],2), round(no_show_sms_pro[0],2)))\n",
    "print('The % of patients that receiving sms and showing up is ({} %), while no show is ({} %).'.format(round(show_sms_pro[1],2), round(no_show_sms_pro[1],2)))"
   ]
  },
  {
   "cell_type": "code",
   "execution_count": 29,
   "metadata": {},
   "outputs": [
    {
     "data": {
      "image/png": "[encoded data removed]",
      "text/plain": [
       "<Figure size 432x288 with 1 Axes>"
      ]
     },
     "metadata": {},
     "output_type": "display_data"
    }
   ],
   "source": [
    "#ploting the bar chart\n",
    "plot_bar(show_sms_pro, no_show_sms_pro, df.sms_received.unique(),'Proportion %', 'sms_received', 'Proportion by show and sms_received', ['Not received', 'Received'])"
   ]
  },
  {
   "cell_type": "markdown",
   "metadata": {},
   "source": [
    "The graph shows the pateints who not received SMS messgae has higher proportion in showing up their appointment than received"
   ]
  },
  {
   "cell_type": "markdown",
   "metadata": {},
   "source": [
    "#### 2. The correlation with duration (Difference between the appointment day and the scheduled day).\n"
   ]
  },
  {
   "cell_type": "code",
   "execution_count": 30,
   "metadata": {},
   "outputs": [
    {
     "data": {
      "image/png": "[encoded data removed]",
      "text/plain": [
       "<Figure size 432x432 with 1 Axes>"
      ]
     },
     "metadata": {},
     "output_type": "display_data"
    }
   ],
   "source": [
    "#plot the histogram\n",
    "plot_hist(df.duration, show, no_show)"
   ]
  },
  {
   "cell_type": "markdown",
   "metadata": {},
   "source": [
    "There is strongly high relation of patient who showing up their appointment at lower duration levels. "
   ]
  },
  {
   "cell_type": "markdown",
   "metadata": {},
   "source": [
    "So, now let's check again the sms_received because it may no sms at lower duration which has high showing up:"
   ]
  },
  {
   "cell_type": "code",
   "execution_count": 31,
   "metadata": {},
   "outputs": [
    {
     "data": {
      "text/plain": [
       "(0.909862538894797, nan)"
      ]
     },
     "execution_count": 31,
     "metadata": {},
     "output_type": "execute_result"
    }
   ],
   "source": [
    "#get the mean of show at lower duration with sms received and not received\n",
    "df.query('duration <200000 and sms_received==0')['show'].mean(),df.query('duration <200000 and sms_received==1')['show'].mean()"
   ]
  },
  {
   "cell_type": "code",
   "execution_count": 32,
   "metadata": {},
   "outputs": [
    {
     "data": {
      "image/png": "[encoded data removed]",
      "text/plain": [
       "<Figure size 432x288 with 1 Axes>"
      ]
     },
     "metadata": {},
     "output_type": "display_data"
    }
   ],
   "source": [
    "#check the scatter diagram of sms received at lower duration\n",
    "df_lower_duration=df.query('duration <250000')\n",
    "plt.scatter(df_lower_duration.duration,df_lower_duration.sms_received);"
   ]
  },
  {
   "cell_type": "markdown",
   "metadata": {},
   "source": [
    "So, now it's clearly indicates that there is no received sms at the lower duration which increase the showing up because of the correlation showing up and duration "
   ]
  },
  {
   "cell_type": "markdown",
   "metadata": {},
   "source": [
    "#### 3. The correlation with the 'age'."
   ]
  },
  {
   "cell_type": "code",
   "execution_count": 33,
   "metadata": {},
   "outputs": [
    {
     "data": {
      "image/png": "[encoded data removed]",
      "text/plain": [
       "<Figure size 432x432 with 1 Axes>"
      ]
     },
     "metadata": {},
     "output_type": "display_data"
    }
   ],
   "source": [
    "#plot the histogram\n",
    "plot_hist(df.age, show, no_show)"
   ]
  },
  {
   "cell_type": "markdown",
   "metadata": {},
   "source": [
    "All ages have showing up higher than no, so there is no correlation."
   ]
  },
  {
   "cell_type": "markdown",
   "metadata": {},
   "source": [
    "#### 4. The correlation with the gender."
   ]
  },
  {
   "cell_type": "code",
   "execution_count": 34,
   "metadata": {},
   "outputs": [
    {
     "data": {
      "image/png": "[encoded data removed]",
      "text/plain": [
       "<Figure size 432x432 with 1 Axes>"
      ]
     },
     "metadata": {},
     "output_type": "display_data"
    }
   ],
   "source": [
    "plot_hist(df.gender, show, no_show)"
   ]
  },
  {
   "cell_type": "markdown",
   "metadata": {},
   "source": [
    "Both are showing up more than no. The reason of the high count in females may due to high females in the samples than males, so this lead us to check the proportion as following:"
   ]
  },
  {
   "cell_type": "code",
   "execution_count": 35,
   "metadata": {},
   "outputs": [
    {
     "data": {
      "text/plain": [
       "(gender\n",
       " F    0.796885\n",
       " M    0.800362\n",
       " Name: gender, dtype: float64,\n",
       " gender\n",
       " F    0.203115\n",
       " M    0.199638\n",
       " Name: gender, dtype: float64)"
      ]
     },
     "execution_count": 35,
     "metadata": {},
     "output_type": "execute_result"
    }
   ],
   "source": [
    "#get the gender proportion with show and no show\n",
    "show_gender_pro=df.groupby('show')['gender'].value_counts()[1]/df['gender'].value_counts()\n",
    "no_show_gender_pro=df.groupby('show')['gender'].value_counts()[0]/df['gender'].value_counts()\n",
    "show_gender_pro, no_show_gender_pro"
   ]
  },
  {
   "cell_type": "code",
   "execution_count": 36,
   "metadata": {},
   "outputs": [
    {
     "data": {
      "image/png": "[encoded data removed]",
      "text/plain": [
       "<Figure size 432x288 with 1 Axes>"
      ]
     },
     "metadata": {},
     "output_type": "display_data"
    }
   ],
   "source": [
    "#plot bar\n",
    "plot_bar(show_gender_pro, no_show_gender_pro, df.gender.unique(),'Proportion', 'gender', 'Proportion by show and gender', ['F','M'])"
   ]
  },
  {
   "cell_type": "markdown",
   "metadata": {},
   "source": [
    "Now is clearly indicates that both are equal in showing up, so there is no correlation here."
   ]
  },
  {
   "cell_type": "markdown",
   "metadata": {},
   "source": [
    "#### 5. The correlation with the scholarship."
   ]
  },
  {
   "cell_type": "code",
   "execution_count": 37,
   "metadata": {},
   "outputs": [
    {
     "data": {
      "image/png": "[encoded data removed]",
      "text/plain": [
       "<Figure size 432x432 with 1 Axes>"
      ]
     },
     "metadata": {},
     "output_type": "display_data"
    }
   ],
   "source": [
    "#plot histogram\n",
    "plot_hist(df.scholarship, show, no_show)"
   ]
  },
  {
   "cell_type": "code",
   "execution_count": 38,
   "metadata": {},
   "outputs": [
    {
     "data": {
      "text/plain": [
       "(scholarship\n",
       " 0    0.801967\n",
       " 1    0.762637\n",
       " Name: scholarship, dtype: float64,\n",
       " scholarship\n",
       " 0    0.198033\n",
       " 1    0.237363\n",
       " Name: scholarship, dtype: float64)"
      ]
     },
     "execution_count": 38,
     "metadata": {},
     "output_type": "execute_result"
    }
   ],
   "source": [
    "#get the scholarship proportion with show and no show\n",
    "show_scholarship_pro=df.groupby('show')['scholarship'].value_counts()[1]/df['scholarship'].value_counts()\n",
    "no_show_scholarship_pro=df.groupby('show')['scholarship'].value_counts()[0]/df['scholarship'].value_counts()\n",
    "show_scholarship_pro, no_show_scholarship_pro"
   ]
  },
  {
   "cell_type": "code",
   "execution_count": 39,
   "metadata": {},
   "outputs": [
    {
     "data": {
      "image/png": "[encoded data removed]",
      "text/plain": [
       "<Figure size 432x288 with 1 Axes>"
      ]
     },
     "metadata": {},
     "output_type": "display_data"
    }
   ],
   "source": [
    "#plot bar\n",
    "plot_bar(show_scholarship_pro, no_show_scholarship_pro, df.scholarship.unique(),'Proportion', 'scholarship', 'Proportion by show and scholarship', ['0','1'])"
   ]
  },
  {
   "cell_type": "markdown",
   "metadata": {},
   "source": [
    "Actually without scholarshio is showing up slightly higher with it. This may because durtaion, so there is no correlation here."
   ]
  },
  {
   "cell_type": "markdown",
   "metadata": {},
   "source": [
    "#### 6. The correlation with the Hipertension."
   ]
  },
  {
   "cell_type": "code",
   "execution_count": 40,
   "metadata": {},
   "outputs": [
    {
     "data": {
      "image/png": "[encoded data removed]",
      "text/plain": [
       "<Figure size 432x432 with 1 Axes>"
      ]
     },
     "metadata": {},
     "output_type": "display_data"
    }
   ],
   "source": [
    "# plot histogram\n",
    "plot_hist(df.hipertension, show, no_show)"
   ]
  },
  {
   "cell_type": "code",
   "execution_count": 41,
   "metadata": {},
   "outputs": [
    {
     "data": {
      "text/plain": [
       "(hipertension\n",
       " 0    0.791005\n",
       " 1    0.826980\n",
       " Name: hipertension, dtype: float64,\n",
       " hipertension\n",
       " 0    0.208995\n",
       " 1    0.173020\n",
       " Name: hipertension, dtype: float64)"
      ]
     },
     "execution_count": 41,
     "metadata": {},
     "output_type": "execute_result"
    }
   ],
   "source": [
    "#get the hipertension proportion with show and no show\n",
    "show_hipertension_pro=df.groupby('show')['hipertension'].value_counts()[1]/df['hipertension'].value_counts()\n",
    "no_show_hipertension_pro=df.groupby('show')['hipertension'].value_counts()[0]/df['hipertension'].value_counts()\n",
    "show_hipertension_pro, no_show_hipertension_pro"
   ]
  },
  {
   "cell_type": "code",
   "execution_count": 42,
   "metadata": {},
   "outputs": [
    {
     "data": {
      "image/png": "[encoded data removed]",
      "text/plain": [
       "<Figure size 432x288 with 1 Axes>"
      ]
     },
     "metadata": {},
     "output_type": "display_data"
    }
   ],
   "source": [
    "#plot bar\n",
    "plot_bar(show_hipertension_pro, no_show_hipertension_pro, df.hipertension.unique(),'Proportion', 'hipertension', 'Proportion by show and hipertension', ['0','1'])"
   ]
  },
  {
   "cell_type": "markdown",
   "metadata": {},
   "source": [
    "Actually with hipertension is showing up slightly higher without it. This may because other relation (i.e duration), so there is no correlation here."
   ]
  },
  {
   "cell_type": "markdown",
   "metadata": {},
   "source": [
    "#### 7. The correlation with the Diabetes."
   ]
  },
  {
   "cell_type": "code",
   "execution_count": 43,
   "metadata": {},
   "outputs": [
    {
     "data": {
      "image/png": "[encoded data removed]",
      "text/plain": [
       "<Figure size 432x432 with 1 Axes>"
      ]
     },
     "metadata": {},
     "output_type": "display_data"
    }
   ],
   "source": [
    "#plot the histogram\n",
    "plot_hist(df.diabetes, show, no_show)"
   ]
  },
  {
   "cell_type": "code",
   "execution_count": 44,
   "metadata": {},
   "outputs": [
    {
     "data": {
      "text/plain": [
       "(diabetes\n",
       " 0    0.796409\n",
       " 1    0.819967\n",
       " Name: diabetes, dtype: float64,\n",
       " diabetes\n",
       " 0    0.203591\n",
       " 1    0.180033\n",
       " Name: diabetes, dtype: float64)"
      ]
     },
     "execution_count": 44,
     "metadata": {},
     "output_type": "execute_result"
    }
   ],
   "source": [
    "#get the diabetes proportion with show and no show\n",
    "show_diabetes_pro=df.groupby('show')['diabetes'].value_counts()[1]/df['diabetes'].value_counts()\n",
    "no_show_diabetes_pro=df.groupby('show')['diabetes'].value_counts()[0]/df['diabetes'].value_counts()\n",
    "show_diabetes_pro, no_show_diabetes_pro"
   ]
  },
  {
   "cell_type": "code",
   "execution_count": 45,
   "metadata": {},
   "outputs": [
    {
     "data": {
      "image/png": "[encoded data removed]",
      "text/plain": [
       "<Figure size 432x288 with 1 Axes>"
      ]
     },
     "metadata": {},
     "output_type": "display_data"
    }
   ],
   "source": [
    "#plot bar\n",
    "plot_bar(show_diabetes_pro, no_show_diabetes_pro, df.diabetes.unique(),'Proportion', 'diabetes', 'Proportion by show and diabetes', ['0','1'])"
   ]
  },
  {
   "cell_type": "markdown",
   "metadata": {},
   "source": [
    "Actually with diabetes is showing up slightly higher without it. This may because other relation (i.e duration), so there is no correlation here."
   ]
  },
  {
   "cell_type": "markdown",
   "metadata": {},
   "source": [
    "#### 8. The correlation with Alcoholism."
   ]
  },
  {
   "cell_type": "code",
   "execution_count": 46,
   "metadata": {},
   "outputs": [
    {
     "data": {
      "image/png": "[encoded data removed]",
      "text/plain": [
       "<Figure size 432x432 with 1 Axes>"
      ]
     },
     "metadata": {},
     "output_type": "display_data"
    }
   ],
   "source": [
    "#plot the histogram\n",
    "plot_hist(df.alcoholism, show, no_show)"
   ]
  },
  {
   "cell_type": "code",
   "execution_count": 47,
   "metadata": {},
   "outputs": [
    {
     "data": {
      "text/plain": [
       "(alcoholism\n",
       " 0    0.798089\n",
       " 1    0.798512\n",
       " Name: alcoholism, dtype: float64,\n",
       " alcoholism\n",
       " 0    0.201911\n",
       " 1    0.201488\n",
       " Name: alcoholism, dtype: float64)"
      ]
     },
     "execution_count": 47,
     "metadata": {},
     "output_type": "execute_result"
    }
   ],
   "source": [
    "#get the alcoholism proportion with show and no show\n",
    "show_alcoholism_pro=df.groupby('show')['alcoholism'].value_counts()[1]/df['alcoholism'].value_counts()\n",
    "no_show_alcoholism_pro=df.groupby('show')['alcoholism'].value_counts()[0]/df['alcoholism'].value_counts()\n",
    "show_alcoholism_pro, no_show_alcoholism_pro"
   ]
  },
  {
   "cell_type": "code",
   "execution_count": 48,
   "metadata": {},
   "outputs": [
    {
     "data": {
      "image/png": "[encoded data removed]",
      "text/plain": [
       "<Figure size 432x288 with 1 Axes>"
      ]
     },
     "metadata": {},
     "output_type": "display_data"
    }
   ],
   "source": [
    "#plot bar\n",
    "plot_bar(show_alcoholism_pro, no_show_alcoholism_pro, df.alcoholism.unique(),'Proportion', 'alcoholism', 'Proportion by show and alcoholism', ['0','1'])"
   ]
  },
  {
   "cell_type": "markdown",
   "metadata": {},
   "source": [
    "Both are almost equal, so there is no correlation here"
   ]
  },
  {
   "cell_type": "markdown",
   "metadata": {},
   "source": [
    "#### 9. The correlation with Handcap."
   ]
  },
  {
   "cell_type": "code",
   "execution_count": 49,
   "metadata": {},
   "outputs": [
    {
     "data": {
      "image/png": "[encoded data removed]",
      "text/plain": [
       "<Figure size 432x432 with 1 Axes>"
      ]
     },
     "metadata": {},
     "output_type": "display_data"
    }
   ],
   "source": [
    "#plot the histogram\n",
    "plot_hist(df.handcap, show, no_show)"
   ]
  },
  {
   "cell_type": "code",
   "execution_count": 50,
   "metadata": {},
   "outputs": [
    {
     "data": {
      "text/plain": [
       "(handcap\n",
       " 0    0.797667\n",
       " 1    0.819116\n",
       " Name: handcap, dtype: float64,\n",
       " handcap\n",
       " 0    0.202333\n",
       " 1    0.180884\n",
       " Name: handcap, dtype: float64)"
      ]
     },
     "execution_count": 50,
     "metadata": {},
     "output_type": "execute_result"
    }
   ],
   "source": [
    "#get the handcap proportion with show and no show\n",
    "show_handcap_pro=df.groupby('show')['handcap'].value_counts()[1]/df['handcap'].value_counts()\n",
    "no_show_handcap_pro=df.groupby('show')['handcap'].value_counts()[0]/df['handcap'].value_counts()\n",
    "show_handcap_pro, no_show_handcap_pro"
   ]
  },
  {
   "cell_type": "code",
   "execution_count": 51,
   "metadata": {},
   "outputs": [
    {
     "data": {
      "image/png": "[encoded data removed]",
      "text/plain": [
       "<Figure size 432x288 with 1 Axes>"
      ]
     },
     "metadata": {},
     "output_type": "display_data"
    }
   ],
   "source": [
    "#plot bar\n",
    "plot_bar(show_handcap_pro, no_show_handcap_pro, df.handcap.unique(),'Proportion', 'handcap', 'Proportion by show and handcap', ['0','1'])"
   ]
  },
  {
   "cell_type": "markdown",
   "metadata": {},
   "source": [
    "Actually with handcap is showing up slightly higher without it. This may because other relation (i.e duration), so there is no correlation here."
   ]
  },
  {
   "cell_type": "markdown",
   "metadata": {},
   "source": [
    "<a id='conclusions'></a>\n",
    "## Conclusions\n",
    "\n",
    "> The project is going insteps in order to answer the question: What factors are important for us to know in order to predict if a patient will show up for their scheduled appointment?\n",
    ">\n",
    "> **1. Data wrangling**\n",
    ">> **Steps used:**\n",
    ">>1. Load the data and visualize the first rows.\n",
    ">>2. Check for missing values (NaN), correct datatypes and column names.\n",
    ">>3. Check for duplicated samples (rows).\n",
    ">>4. Check unique values per each column and compare it with the Data dictionary.\n",
    ">>5. Check the age column values between 0 and 100.\n",
    ">>6. Check if scheduled day is always earlier than appointment date.\n",
    ">>7. Check if the age between 0-2 years and the patient is classified as Alcoholism.\n",
    ">>8. Check if the patient_id has always unique gender.\n",
    "\n",
    "> **2. Data cleaning**\n",
    ">> **Steps used:**\n",
    ">> 1. Set 'handcap' column value to 1 if value more than 1.\n",
    ">> 2. For negative duration, drop 5 rows and set duration to 0 for the others.\n",
    ">> 3. Drop negative value of age (1 row).\n",
    ">> 4. Drop no needed columns for this analysis (patient_id, appointment_id).\n",
    "\n",
    "> **3. Data analysis**\n",
    ">> **Steps used:**\n",
    ">> 1. The correlation with SMS receiving message.\n",
    ">> 2. The correlation with duration (Difference between the appointment day and the scheduled day).\n",
    ">> 3. The correlation with the 'age'.\n",
    ">> 4. The correlation with the gender.\n",
    ">> 5. The correlation with the scholarship.\n",
    ">> 6. The correlation with the Hipertension.\n",
    ">> 7. The correlation with the Diabetes.\n",
    ">> 8. The correlation with Alcoholism.\n",
    ">> 9. The correlation with Handcap.\n",
    "\n",
    "> **4. Results**\n",
    ">> **1. The patinet showing up their appointment is strongly dependent on duration. With lower duration high showing and vice versa. There is no correlation with the other factors (age, scholarship, gender, hipertension, diabetes, alcoholins and handcap.**\n",
    "\n",
    "> **5. limitations**\n",
    ">> 1. Appointment date is always registered at zero hour of day begining. It could be better to registered on time to get results without assumptions.\n",
    ">> 2. Handcap to be more categorized because not all have same effect.\n",
    "\n",
    "> **6. Additional research**\n",
    ">> Weather condition can be added as additional data to collect because may be showing up the appointment depends on."
   ]
  }
 ],
 "metadata": {
  "kernelspec": {
   "display_name": "Python 3",
   "language": "python",
   "name": "python3"
  },
  "language_info": {
   "codemirror_mode": {
    "name": "ipython",
    "version": 3
   },
   "file_extension": ".py",
   "mimetype": "text/x-python",
   "name": "python",
   "nbconvert_exporter": "python",
   "pygments_lexer": "ipython3",
   "version": "3.8.8"
  }
 },
 "nbformat": 4,
 "nbformat_minor": 2
}
